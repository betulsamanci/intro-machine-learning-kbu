{
 "cells": [
  {
   "cell_type": "code",
   "execution_count": 2,
   "id": "3d026aaa",
   "metadata": {},
   "outputs": [
    {
     "name": "stdout",
     "output_type": "stream",
     "text": [
      "betül\n",
      "1\n",
      "False\n",
      "3.5\n"
     ]
    }
   ],
   "source": [
    "name=\"betül\"\n",
    "number=1\n",
    "d1=False\n",
    "d2=3.5\n",
    "print(name)\n",
    "print(number)\n",
    "print(d1)\n",
    "print(d2)"
   ]
  },
  {
   "cell_type": "code",
   "execution_count": 9,
   "id": "34b3f54f",
   "metadata": {},
   "outputs": [
    {
     "data": {
      "text/plain": [
       "list"
      ]
     },
     "execution_count": 9,
     "metadata": {},
     "output_type": "execute_result"
    }
   ],
   "source": [
    "dizi_1=[5,15,25,35,45,55]\n",
    "type(dizi_1)"
   ]
  },
  {
   "cell_type": "code",
   "execution_count": 10,
   "id": "b7e0c611",
   "metadata": {},
   "outputs": [
    {
     "name": "stdout",
     "output_type": "stream",
     "text": [
      "55\n"
     ]
    }
   ],
   "source": [
    "degisken1=dizi_1[5]\n",
    "print(degisken1)"
   ]
  },
  {
   "cell_type": "code",
   "execution_count": 11,
   "id": "c3280df7",
   "metadata": {},
   "outputs": [
    {
     "data": {
      "text/plain": [
       "45"
      ]
     },
     "execution_count": 11,
     "metadata": {},
     "output_type": "execute_result"
    }
   ],
   "source": [
    "dizi_1[-2]"
   ]
  },
  {
   "cell_type": "code",
   "execution_count": 12,
   "id": "225b5431",
   "metadata": {},
   "outputs": [
    {
     "data": {
      "text/plain": [
       "[25, 35]"
      ]
     },
     "execution_count": 12,
     "metadata": {},
     "output_type": "execute_result"
    }
   ],
   "source": [
    "dizi_1[2:4]"
   ]
  },
  {
   "cell_type": "code",
   "execution_count": 13,
   "id": "b09fd7bc",
   "metadata": {},
   "outputs": [
    {
     "data": {
      "text/plain": [
       "['__add__',\n",
       " '__class__',\n",
       " '__class_getitem__',\n",
       " '__contains__',\n",
       " '__delattr__',\n",
       " '__delitem__',\n",
       " '__dir__',\n",
       " '__doc__',\n",
       " '__eq__',\n",
       " '__format__',\n",
       " '__ge__',\n",
       " '__getattribute__',\n",
       " '__getitem__',\n",
       " '__gt__',\n",
       " '__hash__',\n",
       " '__iadd__',\n",
       " '__imul__',\n",
       " '__init__',\n",
       " '__init_subclass__',\n",
       " '__iter__',\n",
       " '__le__',\n",
       " '__len__',\n",
       " '__lt__',\n",
       " '__mul__',\n",
       " '__ne__',\n",
       " '__new__',\n",
       " '__reduce__',\n",
       " '__reduce_ex__',\n",
       " '__repr__',\n",
       " '__reversed__',\n",
       " '__rmul__',\n",
       " '__setattr__',\n",
       " '__setitem__',\n",
       " '__sizeof__',\n",
       " '__str__',\n",
       " '__subclasshook__',\n",
       " 'append',\n",
       " 'clear',\n",
       " 'copy',\n",
       " 'count',\n",
       " 'extend',\n",
       " 'index',\n",
       " 'insert',\n",
       " 'pop',\n",
       " 'remove',\n",
       " 'reverse',\n",
       " 'sort']"
      ]
     },
     "execution_count": 13,
     "metadata": {},
     "output_type": "execute_result"
    }
   ],
   "source": [
    "dir(dizi_1)"
   ]
  },
  {
   "cell_type": "code",
   "execution_count": 17,
   "id": "44847d70",
   "metadata": {},
   "outputs": [
    {
     "name": "stdout",
     "output_type": "stream",
     "text": [
      "[5, 15, 25, 35, 45, 55, 65, 75]\n"
     ]
    }
   ],
   "source": [
    "dizi_1.append(75)\n",
    "print(dizi_1)"
   ]
  },
  {
   "cell_type": "code",
   "execution_count": 20,
   "id": "d18c3f02",
   "metadata": {},
   "outputs": [
    {
     "name": "stdout",
     "output_type": "stream",
     "text": [
      "[75, 65, 55, 45, 35, 25, 15, 5]\n"
     ]
    }
   ],
   "source": [
    "dizi_1.reverse()\n",
    "print(dizi_1)"
   ]
  },
  {
   "cell_type": "code",
   "execution_count": 21,
   "id": "0ae7862c",
   "metadata": {},
   "outputs": [
    {
     "name": "stdout",
     "output_type": "stream",
     "text": [
      "[5, 15, 25, 35, 45, 55, 65, 75]\n"
     ]
    }
   ],
   "source": [
    "dizi_1.sort()\n",
    "print(dizi_1)"
   ]
  },
  {
   "cell_type": "code",
   "execution_count": 22,
   "id": "fdbfcb3f",
   "metadata": {},
   "outputs": [
    {
     "name": "stdout",
     "output_type": "stream",
     "text": [
      "[5, 15, 25, 35, 45, 55, 75]\n"
     ]
    }
   ],
   "source": [
    "dizi_1.remove(65)\n",
    "print(dizi_1)"
   ]
  },
  {
   "cell_type": "code",
   "execution_count": 25,
   "id": "c0bab9e1",
   "metadata": {},
   "outputs": [
    {
     "name": "stdout",
     "output_type": "stream",
     "text": [
      "1\n",
      "2\n",
      "3\n",
      "4\n",
      "5\n",
      "6\n",
      "7\n",
      "8\n",
      "9\n"
     ]
    }
   ],
   "source": [
    "for x in range(1,10):\n",
    "    print(x)"
   ]
  },
  {
   "cell_type": "code",
   "execution_count": 27,
   "id": "ce001e70",
   "metadata": {},
   "outputs": [
    {
     "data": {
      "text/plain": [
       "105"
      ]
     },
     "execution_count": 27,
     "metadata": {},
     "output_type": "execute_result"
    }
   ],
   "source": [
    "dizi1=[5,10,15,20,25,30]\n",
    "sum(dizi1)"
   ]
  },
  {
   "cell_type": "code",
   "execution_count": 28,
   "id": "7da7c245",
   "metadata": {},
   "outputs": [
    {
     "data": {
      "text/plain": [
       "30"
      ]
     },
     "execution_count": 28,
     "metadata": {},
     "output_type": "execute_result"
    }
   ],
   "source": [
    "max(dizi1)"
   ]
  },
  {
   "cell_type": "code",
   "execution_count": 30,
   "id": "293d0843",
   "metadata": {},
   "outputs": [
    {
     "name": "stdout",
     "output_type": "stream",
     "text": [
      "5\n"
     ]
    }
   ],
   "source": [
    "min=10000\n",
    "for x in dizi1:\n",
    "    if(x<min):\n",
    "        min=x\n",
    "    else:\n",
    "        continue\n",
    "print(min)"
   ]
  },
  {
   "cell_type": "code",
   "execution_count": 31,
   "id": "d1eef466",
   "metadata": {},
   "outputs": [
    {
     "name": "stdout",
     "output_type": "stream",
     "text": [
      "0\n",
      "1\n",
      "2\n",
      "3\n",
      "4\n",
      "5\n",
      "6\n"
     ]
    }
   ],
   "source": [
    "i=0\n",
    "while(i<7):\n",
    "    print(i)\n",
    "    i=i+1"
   ]
  },
  {
   "cell_type": "code",
   "execution_count": 34,
   "id": "8aa348c9",
   "metadata": {},
   "outputs": [
    {
     "data": {
      "text/plain": [
       "18.84"
      ]
     },
     "execution_count": 34,
     "metadata": {},
     "output_type": "execute_result"
    }
   ],
   "source": [
    "def cember_cevre(r,pi=3.14):\n",
    "    deger=2*pi*r\n",
    "    return deger\n",
    "cember_cevre(3)"
   ]
  },
  {
   "cell_type": "code",
   "execution_count": 36,
   "id": "38740893",
   "metadata": {},
   "outputs": [
    {
     "name": "stdout",
     "output_type": "stream",
     "text": [
      "4\n"
     ]
    }
   ],
   "source": [
    "def hesapla(z):\n",
    "    deger=x*x\n",
    "    return deger\n",
    "d1=hesapla(5)\n",
    "d2=lambda x:x*x\n",
    "print(d2(2))"
   ]
  },
  {
   "cell_type": "code",
   "execution_count": 37,
   "id": "f3f3cf15",
   "metadata": {},
   "outputs": [],
   "source": [
    "dictionary={\"betül\":21,\"furkan\":24,\"irem\":22}\n"
   ]
  },
  {
   "cell_type": "code",
   "execution_count": 38,
   "id": "9e364b38",
   "metadata": {},
   "outputs": [
    {
     "data": {
      "text/plain": [
       "21"
      ]
     },
     "execution_count": 38,
     "metadata": {},
     "output_type": "execute_result"
    }
   ],
   "source": [
    "dictionary[\"betül\"]"
   ]
  },
  {
   "cell_type": "code",
   "execution_count": 39,
   "id": "60997c42",
   "metadata": {},
   "outputs": [
    {
     "data": {
      "text/plain": [
       "dict_keys(['betül', 'furkan', 'irem'])"
      ]
     },
     "execution_count": 39,
     "metadata": {},
     "output_type": "execute_result"
    }
   ],
   "source": [
    "dictionary.keys()"
   ]
  },
  {
   "cell_type": "code",
   "execution_count": 41,
   "id": "3ed2e342",
   "metadata": {},
   "outputs": [
    {
     "data": {
      "text/plain": [
       "dict_values([21, 24, 22])"
      ]
     },
     "execution_count": 41,
     "metadata": {},
     "output_type": "execute_result"
    }
   ],
   "source": [
    "dictionary.values()"
   ]
  },
  {
   "cell_type": "code",
   "execution_count": 42,
   "id": "8f2bb7f2",
   "metadata": {},
   "outputs": [],
   "source": [
    "def ex():\n",
    "    dictionary={\"betül\":21,\"furkan\":24,\"irem\":22}\n",
    "    return dictionary\n",
    "dic=ex()"
   ]
  },
  {
   "cell_type": "code",
   "execution_count": 43,
   "id": "c7f96475",
   "metadata": {},
   "outputs": [
    {
     "name": "stdout",
     "output_type": "stream",
     "text": [
      "{'betül': 21, 'furkan': 24, 'irem': 22}\n"
     ]
    }
   ],
   "source": [
    "print(dic)"
   ]
  },
  {
   "cell_type": "code",
   "execution_count": 44,
   "id": "c0fafd26",
   "metadata": {},
   "outputs": [
    {
     "name": "stdout",
     "output_type": "stream",
     "text": [
      "hayır\n"
     ]
    }
   ],
   "source": [
    "keys=dictionary.keys()\n",
    "\n",
    "if \"betüş\" in keys:\n",
    "    print(\"evet\")\n",
    "else:\n",
    "    print(\"hayır\")"
   ]
  },
  {
   "cell_type": "code",
   "execution_count": null,
   "id": "60dbb4f2",
   "metadata": {},
   "outputs": [],
   "source": []
  }
 ],
 "metadata": {
  "kernelspec": {
   "display_name": "Python 3 (ipykernel)",
   "language": "python",
   "name": "python3"
  },
  "language_info": {
   "codemirror_mode": {
    "name": "ipython",
    "version": 3
   },
   "file_extension": ".py",
   "mimetype": "text/x-python",
   "name": "python",
   "nbconvert_exporter": "python",
   "pygments_lexer": "ipython3",
   "version": "3.9.13"
  }
 },
 "nbformat": 4,
 "nbformat_minor": 5
}
